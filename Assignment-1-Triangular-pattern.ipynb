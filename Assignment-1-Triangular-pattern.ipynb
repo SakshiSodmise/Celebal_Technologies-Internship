{
 "cells": [
  {
   "cell_type": "markdown",
   "id": "6c89bffd-b1dc-445c-b24d-462aedc5eb1e",
   "metadata": {},
   "source": [
    "# Assignment 1: Print the Triangle pattern"
   ]
  },
  {
   "cell_type": "markdown",
   "id": "e53ec3d5-fb49-4503-8550-1570c8a1447b",
   "metadata": {},
   "source": [
    "### **Problem Statement: Create lower triangular, upper triangular and pyramid containing the \"*\" character.**"
   ]
  },
  {
   "cell_type": "markdown",
   "id": "5f1f7fd5-bb8e-4106-b18f-b0cec14419a2",
   "metadata": {},
   "source": [
    "## 1. Lower Triangular Pattern"
   ]
  },
  {
   "cell_type": "code",
   "execution_count": 10,
   "id": "80ea791a-570b-4a97-8537-4f48e3c0ed62",
   "metadata": {},
   "outputs": [
    {
     "name": "stdout",
     "output_type": "stream",
     "text": [
      "* \n",
      "* * \n",
      "* * * \n",
      "* * * * \n",
      "* * * * * \n"
     ]
    }
   ],
   "source": [
    "n = 5\n",
    "for i in range(1, n+1):\n",
    "    print(\"* \" * i)"
   ]
  },
  {
   "cell_type": "markdown",
   "id": "bc39abec-30da-4f9c-a0db-4ed51be43467",
   "metadata": {},
   "source": [
    "## 2. Upper Triangular Pattern"
   ]
  },
  {
   "cell_type": "code",
   "execution_count": 17,
   "id": "99bd4cf0-4dc7-4583-8952-318c55dcadf2",
   "metadata": {},
   "outputs": [
    {
     "name": "stdout",
     "output_type": "stream",
     "text": [
      "* * * * * \n",
      "  * * * * \n",
      "    * * * \n",
      "      * * \n",
      "        * \n"
     ]
    }
   ],
   "source": [
    "n = 5\n",
    "for i in range(n):\n",
    "    print(\"  \" * i + \"* \" * (n - i))\n"
   ]
  },
  {
   "cell_type": "markdown",
   "id": "6c48934d-7ded-4de8-9ff8-e67eddeac75d",
   "metadata": {},
   "source": [
    "## 3. Pyramid Pattern"
   ]
  },
  {
   "cell_type": "code",
   "execution_count": 44,
   "id": "40a01ef9-909e-43ba-b337-7e20728ef85f",
   "metadata": {},
   "outputs": [
    {
     "name": "stdout",
     "output_type": "stream",
     "text": [
      "    * \n",
      "   * * \n",
      "  * * * \n",
      " * * * * \n",
      "* * * * * \n"
     ]
    }
   ],
   "source": [
    "n = 5\n",
    "for i in range(n):\n",
    "    print(\" \" * (n - i - 1) + \"* \" * (i + 1))\n"
   ]
  }
 ],
 "metadata": {
  "kernelspec": {
   "display_name": "Python [conda env:base] *",
   "language": "python",
   "name": "conda-base-py"
  },
  "language_info": {
   "codemirror_mode": {
    "name": "ipython",
    "version": 3
   },
   "file_extension": ".py",
   "mimetype": "text/x-python",
   "name": "python",
   "nbconvert_exporter": "python",
   "pygments_lexer": "ipython3",
   "version": "3.12.7"
  }
 },
 "nbformat": 4,
 "nbformat_minor": 5
}
